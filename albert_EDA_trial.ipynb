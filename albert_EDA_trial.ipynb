{
 "cells": [
  {
   "cell_type": "markdown",
   "id": "6159e151",
   "metadata": {},
   "source": [
    "# Understanding Heart Disease with Machine Learning and Statistical Techniques"
   ]
  },
  {
   "cell_type": "code",
   "execution_count": 3,
   "id": "472b3e0a",
   "metadata": {},
   "outputs": [],
   "source": [
    "# Import libraries\n",
    "\n",
    "# The %matplotlib inline command tells the IPython environment to draw the plots immediately after the current cell. \n",
    "# The drawn plots are shown below the code and stored in the notebook document for future reference.\n",
    "%matplotlib inline\n",
    "\n",
    "import numpy as np\n",
    "import pandas as pd\n",
    "import seaborn as sns\n",
    "import math\n",
    "import matplotlib.pyplot as plt\n",
    "import plotly.express as px\n",
    "import plotly.subplots as sp\n",
    "import plotly.graph_objects as go\n",
    "import plotly.figure_factory as ff\n",
    "\n",
    "# import warnings\n",
    "# warnings.filterwarnings('ignore')"
   ]
  },
  {
   "cell_type": "code",
   "execution_count": 5,
   "id": "88465bed",
   "metadata": {},
   "outputs": [
    {
     "name": "stdout",
     "output_type": "stream",
     "text": [
      "{'encoding': 'ascii', 'confidence': 1.0, 'language': ''}\n"
     ]
    }
   ],
   "source": [
    "# Checking for the encoding for csv files\n",
    "# Ensure that the file can be read and processed correctly by a program or application that is designed to work with CSV data\n",
    "\n",
    "# Use chardet library to automatically detect the character encoding of a given text or byte string\n",
    "import chardet\n",
    "\n",
    "data_path = 'dataset/heart.csv'\n",
    "with open(data_path, 'rb') as f:\n",
    "    result = chardet.detect(f.read())\n",
    "print(result)"
   ]
  },
  {
   "cell_type": "code",
   "execution_count": null,
   "id": "2c40add0",
   "metadata": {},
   "outputs": [],
   "source": []
  }
 ],
 "metadata": {
  "kernelspec": {
   "display_name": "Python 3 (ipykernel)",
   "language": "python",
   "name": "python3"
  },
  "language_info": {
   "codemirror_mode": {
    "name": "ipython",
    "version": 3
   },
   "file_extension": ".py",
   "mimetype": "text/x-python",
   "name": "python",
   "nbconvert_exporter": "python",
   "pygments_lexer": "ipython3",
   "version": "3.11.3"
  }
 },
 "nbformat": 4,
 "nbformat_minor": 5
}
