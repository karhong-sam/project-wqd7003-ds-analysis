{
 "cells": [
  {
   "attachments": {},
   "cell_type": "markdown",
   "metadata": {},
   "source": [
    "# <center>FACULTY OF COMPUTER SCIENCE & INFORMATION TECHNOLOGY</center> \n",
    "\n",
    "\n",
    "### <center>SEMESTER 2 2022/2023</center> \n",
    "\n",
    "\n",
    "### <center>DATA ANALYTICS</center>\n",
    "### <center>(WQD7003)</center>\n",
    "\n",
    "## <center>GROUP ASSIGNMENT</center>\n",
    "\n",
    "\n",
    "## <center>Title: Understanding Heart Disease with Machine Learning and Statistical Techniques</center>\n",
    "\n",
    "\n",
    "<center> <table>  <tr> <th>Name<th> Matrics <tr>\n",
    "<tr><td>Sam Kar Hong <td>S2191926<tr>\n",
    "<tr><td>Darvhind Magayndran<td>22052749<tr>\n",
    "<tr><td>Chua Xing Zhao <td> S2188563<tr>\n",
    "<tr><td>Syed Dzafeer <td>22053251<tr>\n",
    "<tr><td>Wong Jia Hui <td>S2192852<tr> <table><center>\n"
   ]
  },
  {
   "attachments": {},
   "cell_type": "markdown",
   "metadata": {},
   "source": [
    "**<h1>1.0 Introduction</h1>**"
   ]
  },
  {
   "attachments": {},
   "cell_type": "markdown",
   "metadata": {},
   "source": [
    "**<h2>1.1 Project Background</h2>**\n",
    "\n",
    "Cardiovascular diseases (CVDs) are one of the leading causes of death worldwide. According to WHO, there are an estimered 17.9 million death was caused from CVDs in 2019, which is 32% of all global  deaths. Among these deaths, stroke and heart attack contriburted 85% of it[1](https://www.who.int/news-room/fact-sheets/detail/cardiovascular-diseases-(cvds)). As per a research carried out in the United States, the average overall medical expenses for individuals with confirmed cardiovascular disease (CVD) were $18,953 annually, with hospitalization expenses accounting for 42.8% ($8,114) of the entire costs[3](https://scholar.google.com/scholar_lookup?journal=Am+J+Manag+Care&title=Medical+care+costs+among+patients+with+established+cardiovascular+disease&author=GA+Nichols&author=TJ+Bell&author=KL+Pedula&author=M+O%E2%80%99Keeffe-Rosetti&volume=16&issue=3&publication_year=2010&pages=e86-e93&pmid=20205493&). Meanwhile in Malaysia, there was ean estimated RM3.93mil of the total RM9.65bil, which is around 40% in healthcase costs in 2017 was allocated to treating heart patients[3](https://www.thestar.com.my/news/nation/2022/09/29/heart-disease-leading-cause-of-death-globally-treatment-cost-expected-to-rise). What is concerning the public is that the number of CVD and medical cost is anticipated to rise rapidly in the near future unless appropriate measures are implemented efficiently. Studies in epidemiology and randomized clinical trials have presented convincing evidence that it is possible to prevent coronary heart disease to a large extent[4](https://www.ahajournals.org/doi/full/10.1161/01.CIR.102.25.3137). Therefore,this project aim to understand the factors contributing to heart disease by using machine learning and statistical techniques. \n",
    "\n",
    "\n"
   ]
  },
  {
   "attachments": {},
   "cell_type": "markdown",
   "metadata": {},
   "source": [
    "**<h2>1.2 Problem Statement</h2>**\n",
    "\n",
    "\n",
    "Several studies have been carried out and have proposed that unhealthy eating habits, tobacco use, high consumption of sugar, being overweight, and excessive body fat are the leading causes of cardiovascular disease[5](https://www.ahajournals.org/doi/10.1161/CIR.0000000000000659),[6](https://www.researchgate.net/publication/282956463_Dimensionality_reduction_using_neuro-genetic_approach_for_early_prediction_of_coronary_heart_disease). There were quite a few studies applies different machine learning technique to evaluate the risk of CVDs, which include decision trees[7](https://www.researchgate.net/profile/Dan-Andrei-Sitar-Taut/publication/26635430_Using_Machine_Learning_Algorithms_in_Cardiovascular_Disease_Risk_Evaluation/links/5ea01c62299bf13079b20c80/Using-Machine-Learning-Algorithms-in-Cardiovascular-Disease-Risk-Evaluation.pdf?_sg%5B0%5D=started_experiment_milestone&origin=journalDetail),Extreme Learning Machine [8](https://www.researchgate.net/publication/277952882_Using_the_Extreme_Learning_Machine_ELM_Technique_for_Heart_Disease_Diagnosis) and Naive Bayes Classifier[9](https://www.ncbi.nlm.nih.gov/pmc/articles/PMC4981580/).\n",
    "Thus, the objective of this project is to enhance the accuracy of the classifier by testing various machine learning models.\n"
   ]
  },
  {
   "attachments": {},
   "cell_type": "markdown",
   "metadata": {},
   "source": [
    "**<h2>1.3 Project Objective</h2>**\n",
    "\n",
    "<ol>\n",
    "<li>Exploring patterns and trends in the data</li>\n",
    "<li>Predicting the presence of heart disease</li>\n",
    "<li>Evaluate the performance of model</li>"
   ]
  },
  {
   "attachments": {},
   "cell_type": "markdown",
   "metadata": {},
   "source": [
    "**<h2>1.4 Data Understanding</h2>**\n",
    "The Heart Disease dataset is a collection of medical information from patients who were tested for heart disease. It contains 1025 instances and 14 attributes, including patient age, sex, chest pain type, resting blood pressure, serum cholesterol levels, fasting blood sugar levels, electrocardiographic results, maximum heart rate achieved, exercise-induced angina, ST segment, slope of the peak exercise ST segment, number of major vessels colored by flourosopy, thalassemia, and the presence or absence of heart disease.The Cleveland database is the only one that has been utilized by machine learning researchers to date. The main target variable in this dataset is the \"goal\" field, which indicates the presence of heart disease in the patient. This variable is represented by integers ranging from 0 (no presence) to 4. Previous experiments using the Cleveland database have focused on distinguishing between the presence (values 1,2,3,4) and absence (value 0) of heart disease. To ensure patient privacy, the names and social security numbers in the dataset have been replaced with dummy values.\n",
    "\n",
    "To better understand the data, the following steps were taken:\n",
    "\n",
    "<li>Initial data collection: The dataset was downloaded from the UCI Machine Learning Repository. The data was provided in a CSV format and was read into a Python Jupyter notebook for analysis.</li>\n",
    "\n",
    "<li>Data description: The attribute names and descriptions were reviewed to understand what each attribute represented. This information was used to better understand the context of the data.</li>\n",
    "\n",
    "<li>Exploratory data analysis: The data was visualized using scatter plots, histograms, and box plots to identify any outliers, missing values, or potential data quality issues.</li>\n",
    "\n",
    "<li>Data quality verification: The data was verified to ensure that it was complete, accurate, and relevant for the problem at hand. Any missing or incomplete data was noted for further analysis.</li>\n",
    "\n",
    "Overall, the Heart Disease dataset appeared to be well-structured and contained relevant information for the problem at hand. However, further analysis will be needed to ensure that the data is suitable for use in building a machine learning model."
   ]
  },
  {
   "attachments": {},
   "cell_type": "markdown",
   "metadata": {},
   "source": [
    "**<h2>Appendix</h2>**\n",
    "\n",
    "Reference\n",
    "Dataset link"
   ]
  }
 ],
 "metadata": {
  "kernelspec": {
   "display_name": "base",
   "language": "python",
   "name": "python3"
  },
  "language_info": {
   "name": "python",
   "version": "3.10.9"
  },
  "orig_nbformat": 4
 },
 "nbformat": 4,
 "nbformat_minor": 2
}
