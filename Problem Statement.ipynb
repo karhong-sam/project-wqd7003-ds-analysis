{
 "cells": [
  {
   "attachments": {},
   "cell_type": "markdown",
   "metadata": {},
   "source": [
    "**<h1>Understanding Heart Disease with Machine Learning and Statistical Techniques**"
   ]
  },
  {
   "attachments": {},
   "cell_type": "markdown",
   "metadata": {},
   "source": [
    "**<h2>Introduction</h2>**\n",
    "\n",
    "Cardiovascular diseases (CVDs) are one of the leading causes of death worldwide. According to WHO, there are an estimered 17.9 million death was caused from CVDs in 2019, which is 32% of all global  deaths.[1](https://www.who.int/news-room/fact-sheets/detail/cardiovascular-diseases-(cvds)) Among these deaths, stroke and heart attack contriburted 85% of it.In the United States alone, the estimated direct and indirect costs of CVDs and stroke in 2020 were $351.2 billion. Meanwhile in Malaysia, there was ean estimated RM3.93mil of the total RM9.65bil, which is around 40% in healthcase costs in 2017 was allocated to treating heart patients.[2](https://www.thestar.com.my/news/nation/2022/09/29/heart-disease-leading-cause-of-death-globally-treatment-cost-expected-to-rise)\n",
    "\n",
    "Individuals with CVDs may experience limitations in their daily activities and a reduced quality of life. Chest pain, shortness of breath, and fatigue are common symptoms of CVDs that can affect an individual's ability to perform activities such as walking, climbing stairs, and even sleeping. In severe cases, CVDs can lead to heart failure, heart attack, stroke, and even death. These conditions can have a significant impact on an individual's physical, emotional, and social well-being. The limitations imposed by CVDs can also impact an individual's ability to work and engage in recreational activities, leading to a reduced quality of life.\n",
    "\n",
    "In addition to the impact on individuals, families of individuals with CVDs may experience emotional and financial stress due to the care required for their loved ones. The costs associated with medications, hospitalizations, and other medical expenses can be overwhelming for families, leading to financial strain. The emotional toll of caring for a loved one with CVDs can also be significant, affecting family dynamics and relationships.\n",
    "\n",
    "Furthermore, CVDs have a substantial economic impact, with healthcare costs and lost productivity estimated to be in the billions of dollars annually. The burden of CVDs falls not only on individuals and families but also on society as a whole. The costs associated with CVDs, including medical expenses, lost productivity, and reduced quality of life, can have far-reaching effects on society.\n",
    "\n",
    "Studies in epidemiology and randomized clinical trials have presented convincing evidence that it is possible to prevent coronary heart disease to a large extent.[4](https://www.ahajournals.org/doi/full/10.1161/01.CIR.102.25.3137)Therefore, early detection, prevention, and management of CVDs are crucial to reduce the impact of these diseases on individuals and society. Lifestyle modifications such as a healthy diet, regular physical activity, and smoking cessation, along with medical treatments such as medications and surgeries, can help manage CVDs and reduce the risk of complications. By reducing the burden of CVDs, individuals can lead healthier, more productive lives, and society can benefit from reduced healthcare costs and improved productivity."
   ]
  },
  {
   "attachments": {},
   "cell_type": "markdown",
   "metadata": {},
   "source": [
    "**<h2>Problem Statement</h2>**\n",
    "\n",
    "\n",
    "\n"
   ]
  },
  {
   "attachments": {},
   "cell_type": "markdown",
   "metadata": {},
   "source": [
    "**<h2>Project Objective</h2>**"
   ]
  },
  {
   "attachments": {},
   "cell_type": "markdown",
   "metadata": {},
   "source": [
    "**<h2>Business Understanding</h2>**\n"
   ]
  },
  {
   "attachments": {},
   "cell_type": "markdown",
   "metadata": {},
   "source": [
    "**<h2>Data Understanding</h2>**"
   ]
  },
  {
   "attachments": {},
   "cell_type": "markdown",
   "metadata": {},
   "source": [
    "**<h2>Appendix</h2>**\n"
   ]
  }
 ],
 "metadata": {
  "kernelspec": {
   "display_name": "base",
   "language": "python",
   "name": "python3"
  },
  "language_info": {
   "name": "python",
   "version": "3.10.9"
  },
  "orig_nbformat": 4
 },
 "nbformat": 4,
 "nbformat_minor": 2
}
